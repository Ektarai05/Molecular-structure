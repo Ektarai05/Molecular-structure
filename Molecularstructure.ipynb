{
 "cells": [
  {
   "cell_type": "markdown",
   "metadata": {},
   "source": [
    "# Draw a chemical structure of a molecule"
   ]
  },
  {
   "cell_type": "code",
   "execution_count": null,
   "metadata": {},
   "outputs": [
    {
     "name": "stdout",
     "output_type": "stream",
     "text": [
      "2023.03.1\n",
      "Enter a molecule's (SMILES String) formula  in capital letter (or 'quit' to exit): CC\n",
      "Number of atoms: 2\n",
      "Atomic number: C 6\n",
      "Atomic number: C 6\n",
      "Structure of CC:\n",
      "2023.03.1\n"
     ]
    }
   ],
   "source": [
    "#There are module\n",
    "# Here are some SMILES Strings for testing the code and it will generate .png file of molecule and display it.\n",
    "# H2O = \"O\"  but enter input as O\n",
    "# NaCl=\"[Na+].[Cl-]\"\n",
    "# Naocl\"[Na+].[O-]Cl\"\n",
    "# NaHCO3=\"[Na+].[H]C(=O)O.[O-]C(=O)O\"\n",
    "# CaCo3=\"O=C([O-])[C@@]([O-])(C(=O)[O-])[Ca+2]\"\n",
    "# C10H8=c1ccc2ccccc2c1\n",
    "# Na2Co3=\"[Na+].[Na+].[O-]C(=O)c1ccccc1[O-]\"\n",
    "# CH4=\"C\"\n",
    "# C6H8O7=\"OC(=O)CC(O)(C(=O)O)CC(=O)O\"\n",
    "# C2H6O2=\"C(CO)O\"\n",
    "# C6H12O6=\"CC(O)=O\"\n",
    "# C2H4O2=\"CC(O)=O\"\n",
    "# C3H6O=\"CC=CO\"\n",
    "# Ca(oH)2=\"[Ca++].[OH-].[OH-]\"\n",
    "# c6h8o6 =OC([C@@H]([C@@H](C(=O)O)O)O)C(O)=O\n",
    "# C3H5(oH)3=\"OCC(O)CO\"\n",
    "\n",
    "\n",
    "#We import the modules related to chemistry and draw moecular structure.\n",
    "from rdkit import Chem\n",
    "from rdkit.Chem import Draw\n",
    "from rdkit.Chem.Draw import IPythonConsole\n",
    "from rdkit.Chem import rdDistGeom\n",
    "from rdkit.Chem import rdMolTransforms\n",
    "from rdkit import Geometry\n",
    "import rdkit\n",
    "import re\n",
    "from IPython.display import Image\n",
    "\n",
    "while True:\n",
    "    print(rdkit.__version__)\n",
    "    # We will take input as a SMILES string to generate a structure of molecule\n",
    "    formula = input(\"Enter a molecule's (SMILES String) formula  in capital letter (or 'quit' to exit): \")\n",
    "    if formula.lower()==\"quit\":\n",
    "        break\n",
    "        \n",
    "    m = Chem.MolFromSmiles(formula)\n",
    "    if m is None:\n",
    "        print(\"Invalid input please enter valid SMILES string\")\n",
    "        continue\n",
    "    #mh = Chem.AddHs(m)\n",
    "    num_atoms = m.GetNumAtoms()\n",
    "    print('Number of atoms:', num_atoms)\n",
    "    i=0\n",
    "    for atom in m.GetAtoms():\n",
    "        atomic_num = atom.GetAtomicNum()\n",
    "        print('Atomic number:',m.GetAtomWithIdx(i).GetSymbol(), atomic_num)\n",
    "        i=i+1\n",
    "    mh_cp = Chem.Mol(m)\n",
    "        \n",
    "\n",
    "    if m is not None:\n",
    "        mol1 = Chem.AddHs(m)\n",
    "        # To generate a 2D structure for the molecule\n",
    "        Chem.Draw.MolToFile(mol1, f\"{formula}.png\")\n",
    "\n",
    "        # Display the molecule structure\n",
    "        Draw.MolToFile(mol1, f\"{formula}.png\")\n",
    "        print(f\"Structure of {formula}:\")\n",
    "        Draw.MolToImage(mol1).show()\n",
    "    else:\n",
    "        print(\"Invalid molecule formula.\")\n",
    "    \n",
    "    \n",
    "    "
   ]
  }
 ],
 "metadata": {
  "kernelspec": {
   "display_name": "Python 3 (ipykernel)",
   "language": "python",
   "name": "python3"
  },
  "language_info": {
   "codemirror_mode": {
    "name": "ipython",
    "version": 3
   },
   "file_extension": ".py",
   "mimetype": "text/x-python",
   "name": "python",
   "nbconvert_exporter": "python",
   "pygments_lexer": "ipython3",
   "version": "3.9.13"
  }
 },
 "nbformat": 4,
 "nbformat_minor": 2
}
